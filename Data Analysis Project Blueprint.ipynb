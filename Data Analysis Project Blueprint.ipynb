{
 "cells": [
  {
   "cell_type": "code",
   "execution_count": 1,
   "id": "531cdf74-c168-4890-8b44-915d037dc0f2",
   "metadata": {},
   "outputs": [],
   "source": [
    "### Tips to remember:\n",
    "\n",
    "# the questions you can ask largely depend on the dataset you are given\n",
    "# choose datasets wisely and scrupulously\n",
    "# once you receive the dataset, brainstorm on what outcomes you can extract\n",
    "# the operations you can perform depend largely on the dataset\n",
    "# examples of data cleaning and manipulation operations start in chunk 6\n",
    "# cite ALL resources that were used in the data science project, including textbooks, online discussion forums, etc\n",
    "# document EVERYTHING and keep writing comments on your code\n",
    "# if you run out of ideas, use your dataset to Google more specific questions surrounding your data to add context and spice up your story\n",
    "# ex. what historical events occurred in 1980 that may have increased unemployment rates in California?\n",
    "# sometimes you will get frustrated at one small thing. Let it happen because you're only human and that's how you learn \n",
    "# (ex. forgetting to comment out code, not rerunning your code, etc)"
   ]
  },
  {
   "cell_type": "code",
   "execution_count": 2,
   "id": "61ced95b-4a1e-4264-ab6f-c38b223cc6c9",
   "metadata": {},
   "outputs": [],
   "source": [
    "### Ultimately, the questions that you come up with will guide the project"
   ]
  },
  {
   "cell_type": "code",
   "execution_count": 3,
   "id": "20c37e66-58f6-4e8e-ab6a-48cfd8b6f4c2",
   "metadata": {},
   "outputs": [],
   "source": [
    "### Put yourself in the shoes of the stakeholders invested in using this data"
   ]
  },
  {
   "cell_type": "code",
   "execution_count": 4,
   "id": "6a8f7440-4eb3-4834-b4e1-2755d4d4c44f",
   "metadata": {},
   "outputs": [],
   "source": [
    "### Use this to encourage and feed your own curiosity in different subject areas"
   ]
  },
  {
   "cell_type": "code",
   "execution_count": 5,
   "id": "1a425bd0-b540-438e-b464-92cfdb4b4015",
   "metadata": {},
   "outputs": [],
   "source": [
    "### Use Stats textbooks to help to figure out what questions to ask about the data\n",
    "\n",
    "# for example, should I calculate the mean or the median of the data? Should I plot a bar graph or box plot? \n",
    "# for example, how can I use regression to make predictions about the data?"
   ]
  },
  {
   "cell_type": "code",
   "execution_count": 6,
   "id": "4539f522-c3ff-48cb-9c32-3337d7b0c3ca",
   "metadata": {},
   "outputs": [],
   "source": [
    "### Use extra documentation on the dataset to help with what questions we can ask about the data\n",
    "\n",
    "# for example, read the documentation on who uses employment statistics data on the Bureau for Labor Statistics website"
   ]
  },
  {
   "cell_type": "code",
   "execution_count": 7,
   "id": "61d2e9a5-81df-469e-8ff0-e3964a83323d",
   "metadata": {},
   "outputs": [],
   "source": [
    "### Uncomment to start project\n",
    "\n",
    "# initialization stage\n",
    "# import pandas as pd\n",
    "\n",
    "# Read in dataset\n",
    "# df_name = pd.read_csv('df_path')\n",
    "\n",
    "# inspect data\n",
    "# df_name"
   ]
  },
  {
   "cell_type": "code",
   "execution_count": 8,
   "id": "b7a49b93-5347-4737-b187-a30095c1725b",
   "metadata": {},
   "outputs": [],
   "source": [
    "# check for number of null values in each column\n",
    "# null_values = df_name.isnull().sum()\n",
    "\n",
    "# inspect data\n",
    "# null_values"
   ]
  },
  {
   "cell_type": "code",
   "execution_count": 9,
   "id": "82156e33-7932-4e21-8a66-f7603fe8dcd9",
   "metadata": {},
   "outputs": [],
   "source": [
    "# display data types for each column of df\n",
    "# datatype = df_name.dtypes\n",
    "\n",
    "# inspect data\n",
    "# datatype"
   ]
  },
  {
   "cell_type": "code",
   "execution_count": 10,
   "id": "39d02466-e8aa-4713-ba21-b52a9ceb2e7b",
   "metadata": {},
   "outputs": [],
   "source": [
    "# display number of duplicated rows in df\n",
    "# duplicates = df_name.duplicated().sum()\n",
    "\n",
    "# inspect data\n",
    "# duplicates"
   ]
  },
  {
   "cell_type": "code",
   "execution_count": 11,
   "id": "66523163-87b2-4998-92bf-dd6015683868",
   "metadata": {},
   "outputs": [],
   "source": [
    "# perform relevant cleaning tasks, examples listed below\n",
    "\n",
    "# drop duplicate rows and unnecessary columns in the df\n",
    "# df_name.drop_duplicates(inplace=True)\n",
    "# df_name.drop(columns=['irrelevant_column_1', 'irrelevant_column_2'], inplace=True)\n",
    "\n",
    "# modify column names\n",
    "# new_columns = {'col_1_old_name':'col_1_new_name'}\n",
    "# df_name.rename(columns=new_columns, inplace=True)\n",
    "\n",
    "# export the df to new csv\n",
    "# df_name.to_csv('df_name_cleaned.csv', index=False)\n",
    "\n",
    "# inspect data\n",
    "# df_name"
   ]
  }
 ],
 "metadata": {
  "kernelspec": {
   "display_name": "Python 3 (ipykernel)",
   "language": "python",
   "name": "python3"
  },
  "language_info": {
   "codemirror_mode": {
    "name": "ipython",
    "version": 3
   },
   "file_extension": ".py",
   "mimetype": "text/x-python",
   "name": "python",
   "nbconvert_exporter": "python",
   "pygments_lexer": "ipython3",
   "version": "3.11.5"
  }
 },
 "nbformat": 4,
 "nbformat_minor": 5
}
